{
 "cells": [
  {
   "cell_type": "code",
   "execution_count": 1,
   "metadata": {},
   "outputs": [],
   "source": [
    "import math\n",
    "import numpy as np\n",
    "import pandas as pd\n",
    "import matplotlib.pyplot as plt\n",
    "import seaborn as sns"
   ]
  },
  {
   "cell_type": "code",
   "execution_count": 2,
   "metadata": {},
   "outputs": [
    {
     "data": {
      "text/plain": [
       "Index(['match_id', 'season', 'start_date', 'venue', 'innings', 'ball',\n",
       "       'batting_team', 'bowling_team', 'striker', 'non_striker', 'bowler',\n",
       "       'runs_off_bat', 'extras', 'wides', 'noballs', 'byes', 'legbyes',\n",
       "       'penalty', 'wicket_type', 'player_dismissed', 'other_wicket_type',\n",
       "       'other_player_dismissed'],\n",
       "      dtype='object')"
      ]
     },
     "execution_count": 2,
     "metadata": {},
     "output_type": "execute_result"
    }
   ],
   "source": [
    "data_backup = pd.read_csv('../csvs/deliveries.csv')\n",
    "data = data_backup.copy()\n",
    "data.columns"
   ]
  },
  {
   "cell_type": "code",
   "execution_count": 3,
   "metadata": {},
   "outputs": [],
   "source": [
    "original_df = data\n",
    "\n",
    "original_df['start_date'] = pd.to_datetime(original_df['start_date'])\n",
    "\n",
    "\n",
    "grouped_df = original_df.groupby(['match_id', 'innings', 'venue'])\n",
    "\n",
    "\n",
    "result_df = grouped_df.agg({\n",
    "    'batting_team': 'first',\n",
    "    'bowling_team': 'first',\n",
    "    'wides': 'sum',\n",
    "    'noballs': 'sum',\n",
    "    'byes': 'sum',\n",
    "    'legbyes': 'sum',\n",
    "    'runs_off_bat': 'sum',\n",
    "    'ball': 'max',\n",
    "    'wicket_type': lambda x: x.notnull().sum(),\n",
    "    'start_date': 'first'\n",
    "}).reset_index()\n",
    "\n",
    "\n",
    "result_df.columns = ['match_id', 'innings', 'venue', 'batting_team', 'bowling_team',\n",
    "                      'total_wides', 'total_noballs', 'total_byes', 'total_legbyes', 'total_runs_per_innings_match',\n",
    "                       'last_ball', 'total_wickets', 'date']\n",
    "\n",
    "\n",
    "result_df['total_overs_played'] = result_df['last_ball'].apply(lambda x: min((int(x) + round((x % 1) * 10, 4) / 6), 50.0))\n",
    "\n",
    "\n",
    "result_df[['total_wides', 'total_noballs', 'total_byes', 'total_legbyes']] = result_df[['total_wides', 'total_noballs', 'total_byes', 'total_legbyes']].astype(int)\n",
    "\n",
    "\n",
    "result_df['total_runs_per_innings_match'] += result_df['total_wides'] + result_df['total_noballs'] + result_df['total_byes'] + result_df['total_legbyes']\n",
    "\n",
    "result_df.drop(['last_ball'], axis=1, inplace=True)"
   ]
  },
  {
   "cell_type": "code",
   "execution_count": 4,
   "metadata": {},
   "outputs": [
    {
     "data": {
      "text/html": [
       "<div>\n",
       "<style scoped>\n",
       "    .dataframe tbody tr th:only-of-type {\n",
       "        vertical-align: middle;\n",
       "    }\n",
       "\n",
       "    .dataframe tbody tr th {\n",
       "        vertical-align: top;\n",
       "    }\n",
       "\n",
       "    .dataframe thead th {\n",
       "        text-align: right;\n",
       "    }\n",
       "</style>\n",
       "<table border=\"1\" class=\"dataframe\">\n",
       "  <thead>\n",
       "    <tr style=\"text-align: right;\">\n",
       "      <th></th>\n",
       "      <th>match_id</th>\n",
       "      <th>innings</th>\n",
       "      <th>venue</th>\n",
       "      <th>batting_team</th>\n",
       "      <th>bowling_team</th>\n",
       "      <th>total_wides</th>\n",
       "      <th>total_noballs</th>\n",
       "      <th>total_byes</th>\n",
       "      <th>total_legbyes</th>\n",
       "      <th>total_runs_per_innings_match</th>\n",
       "      <th>total_wickets</th>\n",
       "      <th>date</th>\n",
       "      <th>total_overs_played</th>\n",
       "    </tr>\n",
       "  </thead>\n",
       "  <tbody>\n",
       "    <tr>\n",
       "      <th>0</th>\n",
       "      <td>1</td>\n",
       "      <td>1</td>\n",
       "      <td>Narendra Modi Stadium, Ahmedabad</td>\n",
       "      <td>England</td>\n",
       "      <td>New Zealand</td>\n",
       "      <td>6</td>\n",
       "      <td>0</td>\n",
       "      <td>0</td>\n",
       "      <td>0</td>\n",
       "      <td>282</td>\n",
       "      <td>9</td>\n",
       "      <td>2023-10-05</td>\n",
       "      <td>50.000000</td>\n",
       "    </tr>\n",
       "    <tr>\n",
       "      <th>1</th>\n",
       "      <td>1</td>\n",
       "      <td>2</td>\n",
       "      <td>Narendra Modi Stadium, Ahmedabad</td>\n",
       "      <td>New Zealand</td>\n",
       "      <td>England</td>\n",
       "      <td>3</td>\n",
       "      <td>0</td>\n",
       "      <td>4</td>\n",
       "      <td>1</td>\n",
       "      <td>283</td>\n",
       "      <td>1</td>\n",
       "      <td>2023-10-05</td>\n",
       "      <td>36.333333</td>\n",
       "    </tr>\n",
       "    <tr>\n",
       "      <th>2</th>\n",
       "      <td>2</td>\n",
       "      <td>1</td>\n",
       "      <td>Rajiv Gandhi International Stadium, Uppal, Hyd...</td>\n",
       "      <td>Pakistan</td>\n",
       "      <td>Netherlands</td>\n",
       "      <td>8</td>\n",
       "      <td>1</td>\n",
       "      <td>0</td>\n",
       "      <td>0</td>\n",
       "      <td>286</td>\n",
       "      <td>10</td>\n",
       "      <td>2023-10-06</td>\n",
       "      <td>49.000000</td>\n",
       "    </tr>\n",
       "    <tr>\n",
       "      <th>3</th>\n",
       "      <td>2</td>\n",
       "      <td>2</td>\n",
       "      <td>Rajiv Gandhi International Stadium, Uppal, Hyd...</td>\n",
       "      <td>Netherlands</td>\n",
       "      <td>Pakistan</td>\n",
       "      <td>9</td>\n",
       "      <td>0</td>\n",
       "      <td>0</td>\n",
       "      <td>0</td>\n",
       "      <td>205</td>\n",
       "      <td>10</td>\n",
       "      <td>2023-10-06</td>\n",
       "      <td>41.166667</td>\n",
       "    </tr>\n",
       "    <tr>\n",
       "      <th>4</th>\n",
       "      <td>3</td>\n",
       "      <td>1</td>\n",
       "      <td>Himachal Pradesh Cricket Association Stadium, ...</td>\n",
       "      <td>Afghanistan</td>\n",
       "      <td>Bangladesh</td>\n",
       "      <td>8</td>\n",
       "      <td>0</td>\n",
       "      <td>0</td>\n",
       "      <td>0</td>\n",
       "      <td>156</td>\n",
       "      <td>10</td>\n",
       "      <td>2023-10-07</td>\n",
       "      <td>37.333333</td>\n",
       "    </tr>\n",
       "  </tbody>\n",
       "</table>\n",
       "</div>"
      ],
      "text/plain": [
       "   match_id  innings                                              venue  \\\n",
       "0         1        1                   Narendra Modi Stadium, Ahmedabad   \n",
       "1         1        2                   Narendra Modi Stadium, Ahmedabad   \n",
       "2         2        1  Rajiv Gandhi International Stadium, Uppal, Hyd...   \n",
       "3         2        2  Rajiv Gandhi International Stadium, Uppal, Hyd...   \n",
       "4         3        1  Himachal Pradesh Cricket Association Stadium, ...   \n",
       "\n",
       "  batting_team bowling_team  total_wides  total_noballs  total_byes  \\\n",
       "0      England  New Zealand            6              0           0   \n",
       "1  New Zealand      England            3              0           4   \n",
       "2     Pakistan  Netherlands            8              1           0   \n",
       "3  Netherlands     Pakistan            9              0           0   \n",
       "4  Afghanistan   Bangladesh            8              0           0   \n",
       "\n",
       "   total_legbyes  total_runs_per_innings_match  total_wickets       date  \\\n",
       "0              0                           282              9 2023-10-05   \n",
       "1              1                           283              1 2023-10-05   \n",
       "2              0                           286             10 2023-10-06   \n",
       "3              0                           205             10 2023-10-06   \n",
       "4              0                           156             10 2023-10-07   \n",
       "\n",
       "   total_overs_played  \n",
       "0           50.000000  \n",
       "1           36.333333  \n",
       "2           49.000000  \n",
       "3           41.166667  \n",
       "4           37.333333  "
      ]
     },
     "execution_count": 4,
     "metadata": {},
     "output_type": "execute_result"
    }
   ],
   "source": [
    "result_df.head()"
   ]
  },
  {
   "cell_type": "code",
   "execution_count": 5,
   "metadata": {},
   "outputs": [],
   "source": [
    "final_df = result_df[result_df['innings'] == 2]"
   ]
  },
  {
   "cell_type": "code",
   "execution_count": 6,
   "metadata": {},
   "outputs": [
    {
     "data": {
      "text/html": [
       "<div>\n",
       "<style scoped>\n",
       "    .dataframe tbody tr th:only-of-type {\n",
       "        vertical-align: middle;\n",
       "    }\n",
       "\n",
       "    .dataframe tbody tr th {\n",
       "        vertical-align: top;\n",
       "    }\n",
       "\n",
       "    .dataframe thead th {\n",
       "        text-align: right;\n",
       "    }\n",
       "</style>\n",
       "<table border=\"1\" class=\"dataframe\">\n",
       "  <thead>\n",
       "    <tr style=\"text-align: right;\">\n",
       "      <th></th>\n",
       "      <th>match_id</th>\n",
       "      <th>innings</th>\n",
       "      <th>venue</th>\n",
       "      <th>batting_team</th>\n",
       "      <th>bowling_team</th>\n",
       "      <th>total_wides</th>\n",
       "      <th>total_noballs</th>\n",
       "      <th>total_byes</th>\n",
       "      <th>total_legbyes</th>\n",
       "      <th>total_runs_per_innings_match</th>\n",
       "      <th>total_wickets</th>\n",
       "      <th>date</th>\n",
       "      <th>total_overs_played</th>\n",
       "      <th>total_runs_in_innings1</th>\n",
       "    </tr>\n",
       "  </thead>\n",
       "  <tbody>\n",
       "    <tr>\n",
       "      <th>0</th>\n",
       "      <td>1</td>\n",
       "      <td>2</td>\n",
       "      <td>Narendra Modi Stadium, Ahmedabad</td>\n",
       "      <td>New Zealand</td>\n",
       "      <td>England</td>\n",
       "      <td>3</td>\n",
       "      <td>0</td>\n",
       "      <td>4</td>\n",
       "      <td>1</td>\n",
       "      <td>283</td>\n",
       "      <td>1</td>\n",
       "      <td>2023-10-05</td>\n",
       "      <td>36.333333</td>\n",
       "      <td>282</td>\n",
       "    </tr>\n",
       "    <tr>\n",
       "      <th>1</th>\n",
       "      <td>2</td>\n",
       "      <td>2</td>\n",
       "      <td>Rajiv Gandhi International Stadium, Uppal, Hyd...</td>\n",
       "      <td>Netherlands</td>\n",
       "      <td>Pakistan</td>\n",
       "      <td>9</td>\n",
       "      <td>0</td>\n",
       "      <td>0</td>\n",
       "      <td>0</td>\n",
       "      <td>205</td>\n",
       "      <td>10</td>\n",
       "      <td>2023-10-06</td>\n",
       "      <td>41.166667</td>\n",
       "      <td>286</td>\n",
       "    </tr>\n",
       "    <tr>\n",
       "      <th>2</th>\n",
       "      <td>3</td>\n",
       "      <td>2</td>\n",
       "      <td>Himachal Pradesh Cricket Association Stadium, ...</td>\n",
       "      <td>Bangladesh</td>\n",
       "      <td>Afghanistan</td>\n",
       "      <td>4</td>\n",
       "      <td>1</td>\n",
       "      <td>0</td>\n",
       "      <td>3</td>\n",
       "      <td>158</td>\n",
       "      <td>4</td>\n",
       "      <td>2023-10-07</td>\n",
       "      <td>34.666667</td>\n",
       "      <td>156</td>\n",
       "    </tr>\n",
       "    <tr>\n",
       "      <th>3</th>\n",
       "      <td>4</td>\n",
       "      <td>2</td>\n",
       "      <td>Arun Jaitley Stadium, Delhi</td>\n",
       "      <td>Sri Lanka</td>\n",
       "      <td>South Africa</td>\n",
       "      <td>14</td>\n",
       "      <td>1</td>\n",
       "      <td>0</td>\n",
       "      <td>5</td>\n",
       "      <td>326</td>\n",
       "      <td>10</td>\n",
       "      <td>2023-10-07</td>\n",
       "      <td>44.833333</td>\n",
       "      <td>428</td>\n",
       "    </tr>\n",
       "    <tr>\n",
       "      <th>4</th>\n",
       "      <td>5</td>\n",
       "      <td>2</td>\n",
       "      <td>MA Chidambaram Stadium, Chepauk, Chennai</td>\n",
       "      <td>India</td>\n",
       "      <td>Australia</td>\n",
       "      <td>5</td>\n",
       "      <td>1</td>\n",
       "      <td>1</td>\n",
       "      <td>1</td>\n",
       "      <td>201</td>\n",
       "      <td>4</td>\n",
       "      <td>2023-10-08</td>\n",
       "      <td>41.333333</td>\n",
       "      <td>199</td>\n",
       "    </tr>\n",
       "  </tbody>\n",
       "</table>\n",
       "</div>"
      ],
      "text/plain": [
       "   match_id  innings                                              venue  \\\n",
       "0         1        2                   Narendra Modi Stadium, Ahmedabad   \n",
       "1         2        2  Rajiv Gandhi International Stadium, Uppal, Hyd...   \n",
       "2         3        2  Himachal Pradesh Cricket Association Stadium, ...   \n",
       "3         4        2                        Arun Jaitley Stadium, Delhi   \n",
       "4         5        2           MA Chidambaram Stadium, Chepauk, Chennai   \n",
       "\n",
       "  batting_team  bowling_team  total_wides  total_noballs  total_byes  \\\n",
       "0  New Zealand       England            3              0           4   \n",
       "1  Netherlands      Pakistan            9              0           0   \n",
       "2   Bangladesh   Afghanistan            4              1           0   \n",
       "3    Sri Lanka  South Africa           14              1           0   \n",
       "4        India     Australia            5              1           1   \n",
       "\n",
       "   total_legbyes  total_runs_per_innings_match  total_wickets       date  \\\n",
       "0              1                           283              1 2023-10-05   \n",
       "1              0                           205             10 2023-10-06   \n",
       "2              3                           158              4 2023-10-07   \n",
       "3              5                           326             10 2023-10-07   \n",
       "4              1                           201              4 2023-10-08   \n",
       "\n",
       "   total_overs_played  total_runs_in_innings1  \n",
       "0           36.333333                     282  \n",
       "1           41.166667                     286  \n",
       "2           34.666667                     156  \n",
       "3           44.833333                     428  \n",
       "4           41.333333                     199  "
      ]
     },
     "execution_count": 6,
     "metadata": {},
     "output_type": "execute_result"
    }
   ],
   "source": [
    "#extract run for innings 1 from result_df and add it to final_df\n",
    "first_innings = result_df[result_df['innings'] == 1]\n",
    "first_innings = first_innings[['match_id', 'total_runs_per_innings_match']]\n",
    "first_innings.columns = ['match_id', 'total_runs_in_innings1']\n",
    "final_df = pd.merge(final_df, first_innings, on='match_id')\n",
    "final_df.head()"
   ]
  },
  {
   "cell_type": "code",
   "execution_count": 7,
   "metadata": {},
   "outputs": [],
   "source": [
    "final_df.drop(['match_id','total_wickets','innings','total_wides','total_noballs','total_noballs','total_byes','total_legbyes','date'],axis=1,inplace=True)"
   ]
  },
  {
   "cell_type": "code",
   "execution_count": 8,
   "metadata": {},
   "outputs": [
    {
     "data": {
      "text/html": [
       "<div>\n",
       "<style scoped>\n",
       "    .dataframe tbody tr th:only-of-type {\n",
       "        vertical-align: middle;\n",
       "    }\n",
       "\n",
       "    .dataframe tbody tr th {\n",
       "        vertical-align: top;\n",
       "    }\n",
       "\n",
       "    .dataframe thead th {\n",
       "        text-align: right;\n",
       "    }\n",
       "</style>\n",
       "<table border=\"1\" class=\"dataframe\">\n",
       "  <thead>\n",
       "    <tr style=\"text-align: right;\">\n",
       "      <th></th>\n",
       "      <th>venue</th>\n",
       "      <th>batting_team</th>\n",
       "      <th>bowling_team</th>\n",
       "      <th>total_runs_per_innings_match</th>\n",
       "      <th>total_overs_played</th>\n",
       "      <th>total_runs_in_innings1</th>\n",
       "    </tr>\n",
       "  </thead>\n",
       "  <tbody>\n",
       "    <tr>\n",
       "      <th>0</th>\n",
       "      <td>Narendra Modi Stadium, Ahmedabad</td>\n",
       "      <td>New Zealand</td>\n",
       "      <td>England</td>\n",
       "      <td>283</td>\n",
       "      <td>36.333333</td>\n",
       "      <td>282</td>\n",
       "    </tr>\n",
       "    <tr>\n",
       "      <th>1</th>\n",
       "      <td>Rajiv Gandhi International Stadium, Uppal, Hyd...</td>\n",
       "      <td>Netherlands</td>\n",
       "      <td>Pakistan</td>\n",
       "      <td>205</td>\n",
       "      <td>41.166667</td>\n",
       "      <td>286</td>\n",
       "    </tr>\n",
       "    <tr>\n",
       "      <th>2</th>\n",
       "      <td>Himachal Pradesh Cricket Association Stadium, ...</td>\n",
       "      <td>Bangladesh</td>\n",
       "      <td>Afghanistan</td>\n",
       "      <td>158</td>\n",
       "      <td>34.666667</td>\n",
       "      <td>156</td>\n",
       "    </tr>\n",
       "    <tr>\n",
       "      <th>3</th>\n",
       "      <td>Arun Jaitley Stadium, Delhi</td>\n",
       "      <td>Sri Lanka</td>\n",
       "      <td>South Africa</td>\n",
       "      <td>326</td>\n",
       "      <td>44.833333</td>\n",
       "      <td>428</td>\n",
       "    </tr>\n",
       "    <tr>\n",
       "      <th>4</th>\n",
       "      <td>MA Chidambaram Stadium, Chepauk, Chennai</td>\n",
       "      <td>India</td>\n",
       "      <td>Australia</td>\n",
       "      <td>201</td>\n",
       "      <td>41.333333</td>\n",
       "      <td>199</td>\n",
       "    </tr>\n",
       "  </tbody>\n",
       "</table>\n",
       "</div>"
      ],
      "text/plain": [
       "                                               venue batting_team  \\\n",
       "0                   Narendra Modi Stadium, Ahmedabad  New Zealand   \n",
       "1  Rajiv Gandhi International Stadium, Uppal, Hyd...  Netherlands   \n",
       "2  Himachal Pradesh Cricket Association Stadium, ...   Bangladesh   \n",
       "3                        Arun Jaitley Stadium, Delhi    Sri Lanka   \n",
       "4           MA Chidambaram Stadium, Chepauk, Chennai        India   \n",
       "\n",
       "   bowling_team  total_runs_per_innings_match  total_overs_played  \\\n",
       "0       England                           283           36.333333   \n",
       "1      Pakistan                           205           41.166667   \n",
       "2   Afghanistan                           158           34.666667   \n",
       "3  South Africa                           326           44.833333   \n",
       "4     Australia                           201           41.333333   \n",
       "\n",
       "   total_runs_in_innings1  \n",
       "0                     282  \n",
       "1                     286  \n",
       "2                     156  \n",
       "3                     428  \n",
       "4                     199  "
      ]
     },
     "execution_count": 8,
     "metadata": {},
     "output_type": "execute_result"
    }
   ],
   "source": [
    "final_df.head()"
   ]
  },
  {
   "cell_type": "code",
   "execution_count": 9,
   "metadata": {},
   "outputs": [],
   "source": [
    "from sklearn import preprocessing\n",
    "le = preprocessing.LabelEncoder()\n",
    "\n",
    "mapping = {}\n",
    "categorical_columns = ['venue','batting_team','bowling_team']\n",
    "\n",
    "for column in categorical_columns:\n",
    "    final_df[column] = le.fit_transform(final_df[column])\n",
    "    mapping[column] = dict(zip(le.classes_, le.transform(le.classes_)))"
   ]
  },
  {
   "cell_type": "code",
   "execution_count": 10,
   "metadata": {},
   "outputs": [
    {
     "data": {
      "text/plain": [
       "{'venue': {'Arun Jaitley Stadium, Delhi': 0,\n",
       "  'Bharat Ratna Shri Atal Bihari Vajpayee Ekana Cricket Stadium, Lucknow': 1,\n",
       "  'Eden Gardens, Kolkata': 2,\n",
       "  'Himachal Pradesh Cricket Association Stadium, Dharamsala': 3,\n",
       "  'M Chinnaswamy Stadium, Bengaluru': 4,\n",
       "  'MA Chidambaram Stadium, Chepauk, Chennai': 5,\n",
       "  'Maharashtra Cricket Association Stadium, Pune': 6,\n",
       "  'Narendra Modi Stadium, Ahmedabad': 7,\n",
       "  'Rajiv Gandhi International Stadium, Uppal, Hyderabad': 8,\n",
       "  'Wankhede Stadium, Mumbai': 9},\n",
       " 'batting_team': {'Afghanistan': 0,\n",
       "  'Australia': 1,\n",
       "  'Bangladesh': 2,\n",
       "  'England': 3,\n",
       "  'India': 4,\n",
       "  'Netherlands': 5,\n",
       "  'New Zealand': 6,\n",
       "  'Pakistan': 7,\n",
       "  'South Africa': 8,\n",
       "  'Sri Lanka': 9},\n",
       " 'bowling_team': {'Afghanistan': 0,\n",
       "  'Australia': 1,\n",
       "  'Bangladesh': 2,\n",
       "  'England': 3,\n",
       "  'India': 4,\n",
       "  'Netherlands': 5,\n",
       "  'New Zealand': 6,\n",
       "  'Pakistan': 7,\n",
       "  'South Africa': 8,\n",
       "  'Sri Lanka': 9}}"
      ]
     },
     "execution_count": 10,
     "metadata": {},
     "output_type": "execute_result"
    }
   ],
   "source": [
    "mapping"
   ]
  },
  {
   "cell_type": "code",
   "execution_count": 11,
   "metadata": {},
   "outputs": [],
   "source": [
    "X=final_df.drop('total_runs_per_innings_match',axis='columns')\n",
    "y=final_df['total_runs_per_innings_match']"
   ]
  },
  {
   "cell_type": "code",
   "execution_count": 12,
   "metadata": {},
   "outputs": [
    {
     "data": {
      "text/plain": [
       "((28, 5), (4, 5))"
      ]
     },
     "execution_count": 12,
     "metadata": {},
     "output_type": "execute_result"
    }
   ],
   "source": [
    "from sklearn.model_selection import train_test_split\n",
    "from sklearn.preprocessing import StandardScaler\n",
    "scaler = StandardScaler()\n",
    "\n",
    "X_train, X_test, y_train, y_test = train_test_split(X,y,test_size=0.1,random_state=42)\n",
    "\n",
    "size_scaler = preprocessing.StandardScaler().fit(X_train)\n",
    "X_train_scaled = size_scaler.transform(X_train)\n",
    "X_test_scaled = size_scaler.transform(X_test)\n",
    "X_train_scaled.shape, X_test_scaled.shape"
   ]
  },
  {
   "cell_type": "code",
   "execution_count": 13,
   "metadata": {},
   "outputs": [
    {
     "data": {
      "text/plain": [
       "0.8959206373356593"
      ]
     },
     "execution_count": 13,
     "metadata": {},
     "output_type": "execute_result"
    }
   ],
   "source": [
    "from sklearn.linear_model import LinearRegression\n",
    "model = LinearRegression()\n",
    "model.fit(X_train,y_train)\n",
    "model.score(X_test,y_test)"
   ]
  },
  {
   "cell_type": "code",
   "execution_count": 14,
   "metadata": {},
   "outputs": [],
   "source": [
    "#predict y_test\n",
    "y_pred = model.predict(X_test)"
   ]
  },
  {
   "cell_type": "code",
   "execution_count": 15,
   "metadata": {},
   "outputs": [
    {
     "name": "stdout",
     "output_type": "stream",
     "text": [
      "Epoch 1/500\n",
      "22/22 [==============================] - 1s 9ms/step - loss: 45701.7539 - mae: 202.9442 - val_loss: 35231.5469 - val_mae: 175.8212\n",
      "Epoch 2/500\n",
      "22/22 [==============================] - 0s 3ms/step - loss: 32452.7500 - mae: 169.0838 - val_loss: 21534.9531 - val_mae: 131.4732\n",
      "Epoch 3/500\n",
      "22/22 [==============================] - 0s 2ms/step - loss: 18642.2871 - mae: 125.1509 - val_loss: 9458.1133 - val_mae: 78.9838\n",
      "Epoch 4/500\n",
      "22/22 [==============================] - 0s 3ms/step - loss: 8515.3770 - mae: 80.7132 - val_loss: 4898.5122 - val_mae: 61.9097\n",
      "Epoch 5/500\n",
      "22/22 [==============================] - 0s 3ms/step - loss: 5354.5854 - mae: 59.6622 - val_loss: 5302.8208 - val_mae: 62.9413\n",
      "Epoch 6/500\n",
      "22/22 [==============================] - 0s 2ms/step - loss: 4930.6167 - mae: 57.6742 - val_loss: 4923.8633 - val_mae: 62.0530\n",
      "Epoch 7/500\n",
      "22/22 [==============================] - 0s 3ms/step - loss: 5137.7427 - mae: 58.2100 - val_loss: 5053.8750 - val_mae: 62.2053\n",
      "Epoch 8/500\n",
      "22/22 [==============================] - 0s 3ms/step - loss: 4942.8560 - mae: 57.7292 - val_loss: 4923.7017 - val_mae: 61.8136\n",
      "Epoch 9/500\n",
      "22/22 [==============================] - 0s 2ms/step - loss: 5052.9526 - mae: 57.8611 - val_loss: 5156.9546 - val_mae: 62.1513\n",
      "Epoch 10/500\n",
      "22/22 [==============================] - 0s 3ms/step - loss: 5347.4292 - mae: 60.6377 - val_loss: 4856.8882 - val_mae: 61.4796\n",
      "Epoch 11/500\n",
      "22/22 [==============================] - 0s 4ms/step - loss: 4954.6621 - mae: 56.7770 - val_loss: 5383.1294 - val_mae: 62.2201\n",
      "Epoch 12/500\n",
      "22/22 [==============================] - 0s 3ms/step - loss: 4968.4810 - mae: 57.4078 - val_loss: 4887.6289 - val_mae: 61.3544\n",
      "Epoch 13/500\n",
      "22/22 [==============================] - 0s 3ms/step - loss: 4774.3989 - mae: 56.4585 - val_loss: 4993.9683 - val_mae: 61.4434\n",
      "Epoch 14/500\n",
      "22/22 [==============================] - 0s 3ms/step - loss: 4838.9878 - mae: 56.2293 - val_loss: 5179.5474 - val_mae: 61.6262\n",
      "Epoch 15/500\n",
      "22/22 [==============================] - 0s 3ms/step - loss: 4833.8359 - mae: 56.9590 - val_loss: 4848.8853 - val_mae: 60.9898\n",
      "Epoch 16/500\n",
      "22/22 [==============================] - 0s 2ms/step - loss: 4785.4668 - mae: 56.4010 - val_loss: 4832.7993 - val_mae: 60.8459\n",
      "Epoch 17/500\n",
      "22/22 [==============================] - 0s 3ms/step - loss: 5071.2983 - mae: 56.7355 - val_loss: 5329.1826 - val_mae: 61.4555\n",
      "Epoch 18/500\n",
      "22/22 [==============================] - 0s 3ms/step - loss: 4834.0190 - mae: 57.6744 - val_loss: 4691.1260 - val_mae: 60.3577\n",
      "Epoch 19/500\n",
      "22/22 [==============================] - 0s 2ms/step - loss: 4805.7227 - mae: 57.2347 - val_loss: 4788.8843 - val_mae: 60.4449\n",
      "Epoch 20/500\n",
      "22/22 [==============================] - 0s 4ms/step - loss: 4728.2817 - mae: 55.3079 - val_loss: 5237.1851 - val_mae: 60.9929\n",
      "Epoch 21/500\n",
      "22/22 [==============================] - 0s 3ms/step - loss: 4740.5161 - mae: 56.1914 - val_loss: 4745.0259 - val_mae: 60.1684\n",
      "Epoch 22/500\n",
      "22/22 [==============================] - 0s 3ms/step - loss: 4727.6973 - mae: 55.5840 - val_loss: 5074.6987 - val_mae: 60.5623\n",
      "Epoch 23/500\n",
      "22/22 [==============================] - 0s 2ms/step - loss: 4650.6455 - mae: 55.6340 - val_loss: 4688.7275 - val_mae: 59.8762\n",
      "Epoch 24/500\n",
      "22/22 [==============================] - 0s 4ms/step - loss: 4605.6172 - mae: 56.3480 - val_loss: 4563.8647 - val_mae: 59.5291\n",
      "Epoch 25/500\n",
      "22/22 [==============================] - 0s 3ms/step - loss: 4604.8257 - mae: 55.8976 - val_loss: 4798.1450 - val_mae: 59.8016\n",
      "Epoch 26/500\n",
      "22/22 [==============================] - 0s 3ms/step - loss: 4750.5415 - mae: 55.7037 - val_loss: 5059.3394 - val_mae: 60.0419\n",
      "Epoch 27/500\n",
      "22/22 [==============================] - 0s 3ms/step - loss: 4660.5244 - mae: 55.3788 - val_loss: 4720.6782 - val_mae: 59.4990\n",
      "Epoch 28/500\n",
      "22/22 [==============================] - 0s 3ms/step - loss: 4593.8286 - mae: 56.4171 - val_loss: 4407.5581 - val_mae: 58.8000\n",
      "Epoch 29/500\n",
      "22/22 [==============================] - 0s 3ms/step - loss: 5235.4175 - mae: 58.3588 - val_loss: 5257.4351 - val_mae: 60.9052\n",
      "Epoch 30/500\n",
      "22/22 [==============================] - 0s 2ms/step - loss: 5181.0410 - mae: 62.0916 - val_loss: 4244.8242 - val_mae: 58.1124\n",
      "Epoch 31/500\n",
      "22/22 [==============================] - 0s 3ms/step - loss: 4527.7842 - mae: 55.7628 - val_loss: 4632.1343 - val_mae: 58.8765\n",
      "Epoch 32/500\n",
      "22/22 [==============================] - 0s 3ms/step - loss: 4551.0396 - mae: 55.6384 - val_loss: 4438.1562 - val_mae: 58.4585\n",
      "Epoch 33/500\n",
      "22/22 [==============================] - 0s 3ms/step - loss: 4450.5107 - mae: 55.0900 - val_loss: 4552.7085 - val_mae: 58.5123\n",
      "Epoch 34/500\n",
      "22/22 [==============================] - 0s 4ms/step - loss: 4540.9902 - mae: 54.9867 - val_loss: 4860.7305 - val_mae: 58.9360\n",
      "Epoch 35/500\n",
      "22/22 [==============================] - 0s 3ms/step - loss: 4747.5298 - mae: 55.8332 - val_loss: 4312.1226 - val_mae: 57.8822\n",
      "Epoch 36/500\n",
      "22/22 [==============================] - 0s 2ms/step - loss: 4451.5684 - mae: 55.2285 - val_loss: 4390.2578 - val_mae: 57.9014\n",
      "Epoch 37/500\n",
      "22/22 [==============================] - 0s 3ms/step - loss: 4444.7573 - mae: 54.1850 - val_loss: 4570.5503 - val_mae: 58.0623\n",
      "Epoch 38/500\n",
      "22/22 [==============================] - 0s 3ms/step - loss: 4437.6348 - mae: 54.4101 - val_loss: 4400.9146 - val_mae: 57.6843\n",
      "Epoch 39/500\n",
      "22/22 [==============================] - 0s 2ms/step - loss: 4573.2861 - mae: 54.6126 - val_loss: 4698.4912 - val_mae: 58.2405\n",
      "Epoch 40/500\n",
      "22/22 [==============================] - 0s 3ms/step - loss: 4363.7026 - mae: 53.9198 - val_loss: 4327.3955 - val_mae: 57.3637\n"
     ]
    },
    {
     "data": {
      "text/plain": [
       "<keras.src.callbacks.History at 0x2344aadfa10>"
      ]
     },
     "execution_count": 15,
     "metadata": {},
     "output_type": "execute_result"
    }
   ],
   "source": [
    "import tensorflow as tf\n",
    "from tensorflow import keras\n",
    "from tensorflow.keras import layers\n",
    "from tensorflow.keras.callbacks import EarlyStopping\n",
    "from sklearn.preprocessing import StandardScaler\n",
    "\n",
    "\n",
    "model = keras.Sequential([\n",
    "    layers.Input(shape=(X_train.shape[1],)),  # Input layer\n",
    "    layers.Dense(32, activation='relu'),\n",
    "    layers.Dense(16, activation='relu'),\n",
    "    layers.Dense(8, activation='relu'),\n",
    "    layers.Dense(1, activation='linear')  # Output layer with 1 unit and linear activation\n",
    "])\n",
    "\n",
    "model.compile(optimizer='adam', loss='mse', metrics=['mae'])\n",
    "\n",
    "early_stopping = EarlyStopping(monitor='val_loss', patience=10)\n",
    "\n",
    "model.fit(X_train, y_train, epochs=500, batch_size=1, verbose=1, callbacks=[early_stopping], validation_split=0.2)"
   ]
  },
  {
   "cell_type": "code",
   "execution_count": 16,
   "metadata": {},
   "outputs": [
    {
     "name": "stdout",
     "output_type": "stream",
     "text": [
      "1/1 [==============================] - 0s 146ms/step - loss: 4278.5161 - mae: 54.4699\n",
      "Training MAE: 54.46991729736328\n",
      "1/1 [==============================] - 0s 14ms/step - loss: 2442.9072 - mae: 44.5101\n",
      "Test MAE: 44.51009750366211\n"
     ]
    }
   ],
   "source": [
    "train_loss, train_mae = model.evaluate(X_train, y_train, verbose=1)\n",
    "print(f\"Training MAE: {train_mae}\")\n",
    "\n",
    "# Evaluate on the test set\n",
    "test_loss, test_mae = model.evaluate(X_test, y_test, verbose=1)\n",
    "print(f\"Test MAE: {test_mae}\")"
   ]
  },
  {
   "cell_type": "code",
   "execution_count": 17,
   "metadata": {},
   "outputs": [
    {
     "name": "stdout",
     "output_type": "stream",
     "text": [
      "1/1 [==============================] - 0s 65ms/step\n"
     ]
    },
    {
     "data": {
      "text/plain": [
       "array([[198.74583],\n",
       "       [218.85696],\n",
       "       [129.8005 ],\n",
       "       [280.2703 ]], dtype=float32)"
      ]
     },
     "execution_count": 17,
     "metadata": {},
     "output_type": "execute_result"
    }
   ],
   "source": [
    "y_pred = model.predict(X_test)\n",
    "y_pred"
   ]
  },
  {
   "cell_type": "code",
   "execution_count": 18,
   "metadata": {},
   "outputs": [
    {
     "data": {
      "text/plain": [
       "29    242\n",
       "15    139\n",
       "24    160\n",
       "17    305\n",
       "Name: total_runs_per_innings_match, dtype: int64"
      ]
     },
     "execution_count": 18,
     "metadata": {},
     "output_type": "execute_result"
    }
   ],
   "source": [
    "y_test"
   ]
  },
  {
   "cell_type": "code",
   "execution_count": 19,
   "metadata": {},
   "outputs": [],
   "source": [
    "import pickle as pkl"
   ]
  },
  {
   "cell_type": "code",
   "execution_count": 20,
   "metadata": {},
   "outputs": [],
   "source": [
    "pkl.dump(model, open('../pickles/inning2_run_predictor', 'wb'))"
   ]
  }
 ],
 "metadata": {
  "kernelspec": {
   "display_name": "Python 3 (ipykernel)",
   "language": "python",
   "name": "python3"
  },
  "language_info": {
   "codemirror_mode": {
    "name": "ipython",
    "version": 3
   },
   "file_extension": ".py",
   "mimetype": "text/x-python",
   "name": "python",
   "nbconvert_exporter": "python",
   "pygments_lexer": "ipython3",
   "version": "3.11.1"
  }
 },
 "nbformat": 4,
 "nbformat_minor": 2
}
